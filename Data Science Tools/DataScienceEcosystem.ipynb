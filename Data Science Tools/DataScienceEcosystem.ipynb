{
 "cells": [
  {
   "cell_type": "markdown",
   "id": "a99b81ea-7413-4fbf-ad89-c52f02833ffd",
   "metadata": {},
   "source": [
    "# Data Science Tools and Ecosystem"
   ]
  },
  {
   "cell_type": "markdown",
   "execution_count": null,
   "id": "333880e4-8caf-48cb-bb54-b33288c70579",
   "metadata": {},
   "outputs": [],
   "source": [
    "In this notebook, Data Science Tools and Ecosystem are summarized."
   ]
  },
  {
   "cell_type": "markdown",
   "id": "a321e323-f8e9-4b76-a519-1456ec252109",
   "metadata": {},
   "source": [
    "**Objectives:**\n",
    "* List popular languages for Data Science\n",
    "* List popular libraries for Data Science\n",
    "* List popular open source tools for Data Science"
   ]
  },
  {
   "cell_type": "markdown",
   "id": "56ed1420-8892-4868-9090-0baeeb065d19",
   "metadata": {},
   "source": [
    "Some of the popular languages that Data Scientists use are:\n",
    "1. Python\n",
    "2. R\n",
    "3. Jullia"
   ]
  },
  {
   "cell_type": "markdown",
   "id": "4d96c209-1345-4555-bdc0-840f43eed830",
   "metadata": {},
   "source": [
    "Some of the commonly used libraries used by Data Scientists include:\n",
    "1. Matplotlib\n",
    "2. Numpy\n",
    "3. Pandas"
   ]
  },
  {
   "cell_type": "markdown",
   "id": "731237ac-e8ef-4a95-82bc-cf6ebe302b46",
   "metadata": {},
   "source": [
    "|Data Science Tools|\n",
    "|------------------|\n",
    "|Jupyter Notebook|\n",
    "|R Studio|\n",
    "|Apache Spark|"
   ]
  },
  {
   "cell_type": "markdown",
   "id": "9988bbb6-a27b-4a35-aab7-2d748fbe27a8",
   "metadata": {},
   "source": [
    "### Below are a few examples of evaluating arithmetic expressions in Python\n",
    "x = 10\n",
    "y = 20\n",
    "z = x + y"
   ]
  },
  {
   "cell_type": "code",
   "execution_count": 2,
   "id": "3342ae6e-21d7-4f21-b3c7-c3a5bd11f321",
   "metadata": {},
   "outputs": [
    {
     "data": {
      "text/plain": [
       "17"
      ]
     },
     "execution_count": 2,
     "metadata": {},
     "output_type": "execute_result"
    }
   ],
   "source": [
    "#This a simple arithmetic expression to mutiply then add integers\n",
    "(3*4)+5"
   ]
  },
  {
   "cell_type": "code",
   "execution_count": 5,
   "id": "ffa4ba55-f445-42c1-9da5-65325c8918c4",
   "metadata": {},
   "outputs": [
    {
     "name": "stdout",
     "output_type": "stream",
     "text": [
      "200 minutes is 3.3333333333333335 hours.\n"
     ]
    }
   ],
   "source": [
    "#This will convert 200 minutes to hours by diving by 60\n",
    "print(f\"200 minutes is {200/60} hours.\")"
   ]
  },
  {
   "cell_type": "markdown",
   "id": "d3ef2db4-3ce0-4df4-b741-c6cb685e93c2",
   "metadata": {},
   "source": [
    "## Author\n",
    "Bryan Mello Barros"
   ]
  }
 ],
 "metadata": {
  "kernelspec": {
   "display_name": "Python 3 (ipykernel)",
   "language": "python",
   "name": "python3"
  },
  "language_info": {
   "codemirror_mode": {
    "name": "ipython",
    "version": 3
   },
   "file_extension": ".py",
   "mimetype": "text/x-python",
   "name": "python",
   "nbconvert_exporter": "python",
   "pygments_lexer": "ipython3",
   "version": "3.11.7"
  }
 },
 "nbformat": 4,
 "nbformat_minor": 5
}
